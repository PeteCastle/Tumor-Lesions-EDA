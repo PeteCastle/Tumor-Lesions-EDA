{
 "cells": [
  {
   "cell_type": "markdown",
   "metadata": {},
   "source": [
    "# FDG-PET/CT Dataset for Tumor Lesions\n",
    "## Exploratory Data Analysis\n",
    "\n",
    "This exploratory data analysis analyzes the characteristic of tumor lesions across 197 cancer patients. Then, I used Principal Component Analysis to reduce the features from >400 to less than 20.  Feature normalization is also used.  Then, I used and compared 5 models: Logistic Regression, Random Forest Classifier, Gradient Boost Classifier, Support Vector Classifier, KNeighbors Classifier.  The following scores were used for model evaluation: Best Score, Accuracy, F1 Score, and ROC AUC Score.\n",
    "\n",
    "**The Dataset**\n",
    "\n",
    "Dataset is obtained from [this source](https://coursebank.ph/assets/courseware/v1/4bf7bc69429d39dee06cb120e862b464/asset-v1:DAP+SP901+2020_Q2+type@asset+block/SP901_CS_completedata.csv).\n",
    "Each row represents a tumor lesion. Each column represents a feature of the tumor lesion such as volume, axis length, SUV, etc.\n",
    "\n",
    "\n",
    "**Francis Mark M. Cayco**\n",
    "\n",
    "https://github.com/PeteCastle\n",
    "\n",
    "*SP901: Data Science and Machine Learning Using Python*\n",
    "\n",
    "*Capstone Project*"
   ]
  },
  {
   "cell_type": "code",
   "execution_count": 41,
   "metadata": {},
   "outputs": [],
   "source": [
    "# Install the necessary packages for the project; uncomment this for initial setup\n",
    "# %pip install imblearn\n",
    "# %pip install sklearn\n",
    "# %pip install pandas\n",
    "# %pip install numpy\n",
    "# %pip install matplotlib\n",
    "# %pip install seaborn"
   ]
  },
  {
   "cell_type": "code",
   "execution_count": 110,
   "metadata": {},
   "outputs": [],
   "source": [
    "import pandas as pd\n",
    "from sklearn.decomposition import PCA\n",
    "import numpy as np\n",
    "import matplotlib.pyplot as plt\n",
    "from sklearn.preprocessing import StandardScaler\n",
    "from imblearn.over_sampling import RandomOverSampler\n",
    "from sklearn.model_selection import train_test_split, KFold, cross_val_score, GridSearchCV\n",
    "\n",
    "from sklearn.linear_model import LogisticRegression\n",
    "from sklearn.ensemble import RandomForestClassifier, GradientBoostingClassifier\n",
    "from sklearn.svm import SVC \n",
    "from sklearn.neighbors import KNeighborsClassifier  \n",
    "from sklearn.metrics import roc_auc_score, accuracy_score, f1_score\n",
    "\n",
    "import seaborn as sns\n",
    "\n",
    "import warnings\n",
    "from sklearn.exceptions import ConvergenceWarning, FitFailedWarning\n",
    "# Ignore specific warning\n",
    "warnings.filterwarnings(\"ignore\", category=ConvergenceWarning)\n",
    "warnings.filterwarnings(\"ignore\", category=FitFailedWarning)\n",
    "warnings.filterwarnings(\"ignore\", category=UserWarning)"
   ]
  },
  {
   "cell_type": "code",
   "execution_count": 43,
   "metadata": {},
   "outputs": [],
   "source": [
    "dataset = pd.read_csv(\"SP901_CS_completedata.csv\", sep=\";\")\n",
    "dataset.drop(\"PatientID\",axis=1, inplace=True)\n",
    "X = dataset.drop(\"Failure.binary\", axis = 1)\n",
    "y = dataset[\"Failure.binary\"]"
   ]
  },
  {
   "cell_type": "markdown",
   "metadata": {},
   "source": [
    "#### Exploring the Dataset"
   ]
  },
  {
   "cell_type": "code",
   "execution_count": 155,
   "metadata": {},
   "outputs": [
    {
     "data": {
      "text/html": [
       "<div>\n",
       "<style scoped>\n",
       "    .dataframe tbody tr th:only-of-type {\n",
       "        vertical-align: middle;\n",
       "    }\n",
       "\n",
       "    .dataframe tbody tr th {\n",
       "        vertical-align: top;\n",
       "    }\n",
       "\n",
       "    .dataframe thead th {\n",
       "        text-align: right;\n",
       "    }\n",
       "</style>\n",
       "<table border=\"1\" class=\"dataframe\">\n",
       "  <thead>\n",
       "    <tr style=\"text-align: right;\">\n",
       "      <th></th>\n",
       "      <th>Failure.binary</th>\n",
       "      <th>Entropy_cooc.W.ADC</th>\n",
       "      <th>GLNU_align.H.PET</th>\n",
       "      <th>Min_hist.PET</th>\n",
       "      <th>Max_hist.PET</th>\n",
       "      <th>Mean_hist.PET</th>\n",
       "      <th>Variance_hist.PET</th>\n",
       "      <th>Standard_Deviation_hist.PET</th>\n",
       "      <th>Skewness_hist.PET</th>\n",
       "      <th>Kurtosis_hist.PET</th>\n",
       "      <th>...</th>\n",
       "      <th>LZLGE.W.ADC</th>\n",
       "      <th>LZHGE.W.ADC</th>\n",
       "      <th>GLNU_area.W.ADC</th>\n",
       "      <th>ZSNU.W.ADC</th>\n",
       "      <th>ZSP.W.ADC</th>\n",
       "      <th>GLNU_norm.W.ADC</th>\n",
       "      <th>ZSNU_norm.W.ADC</th>\n",
       "      <th>GLVAR_area.W.ADC</th>\n",
       "      <th>ZSVAR.W.ADC</th>\n",
       "      <th>Entropy_area.W.ADC</th>\n",
       "    </tr>\n",
       "  </thead>\n",
       "  <tbody>\n",
       "    <tr>\n",
       "      <th>0</th>\n",
       "      <td>0</td>\n",
       "      <td>12.85352</td>\n",
       "      <td>46.256345</td>\n",
       "      <td>6.249117</td>\n",
       "      <td>17.825541</td>\n",
       "      <td>9.783773</td>\n",
       "      <td>6.814365</td>\n",
       "      <td>2.612479</td>\n",
       "      <td>0.688533</td>\n",
       "      <td>-0.339727</td>\n",
       "      <td>...</td>\n",
       "      <td>0.006900</td>\n",
       "      <td>6201.93480</td>\n",
       "      <td>4.134000</td>\n",
       "      <td>239.289380</td>\n",
       "      <td>0.979180</td>\n",
       "      <td>0.018990</td>\n",
       "      <td>0.955860</td>\n",
       "      <td>1145.104960</td>\n",
       "      <td>0.025860</td>\n",
       "      <td>6.286320</td>\n",
       "    </tr>\n",
       "    <tr>\n",
       "      <th>1</th>\n",
       "      <td>1</td>\n",
       "      <td>12.21115</td>\n",
       "      <td>27.454540</td>\n",
       "      <td>11.005214</td>\n",
       "      <td>26.469077</td>\n",
       "      <td>15.426640</td>\n",
       "      <td>12.932074</td>\n",
       "      <td>3.598298</td>\n",
       "      <td>0.789526</td>\n",
       "      <td>-0.319613</td>\n",
       "      <td>...</td>\n",
       "      <td>0.004230</td>\n",
       "      <td>16054.01263</td>\n",
       "      <td>8.376270</td>\n",
       "      <td>644.737020</td>\n",
       "      <td>0.956370</td>\n",
       "      <td>0.014610</td>\n",
       "      <td>0.932880</td>\n",
       "      <td>847.525370</td>\n",
       "      <td>0.041530</td>\n",
       "      <td>6.778530</td>\n",
       "    </tr>\n",
       "    <tr>\n",
       "      <th>2</th>\n",
       "      <td>0</td>\n",
       "      <td>12.75682</td>\n",
       "      <td>90.195696</td>\n",
       "      <td>2.777718</td>\n",
       "      <td>6.877486</td>\n",
       "      <td>4.295330</td>\n",
       "      <td>0.923425</td>\n",
       "      <td>0.962163</td>\n",
       "      <td>0.248637</td>\n",
       "      <td>-0.944246</td>\n",
       "      <td>...</td>\n",
       "      <td>0.004530</td>\n",
       "      <td>6674.63840</td>\n",
       "      <td>13.116860</td>\n",
       "      <td>1165.702610</td>\n",
       "      <td>0.972680</td>\n",
       "      <td>0.025010</td>\n",
       "      <td>0.915370</td>\n",
       "      <td>1923.857050</td>\n",
       "      <td>0.071040</td>\n",
       "      <td>7.156850</td>\n",
       "    </tr>\n",
       "    <tr>\n",
       "      <th>3</th>\n",
       "      <td>1</td>\n",
       "      <td>13.46730</td>\n",
       "      <td>325.643330</td>\n",
       "      <td>6.296588</td>\n",
       "      <td>22.029843</td>\n",
       "      <td>10.334779</td>\n",
       "      <td>6.649795</td>\n",
       "      <td>2.580759</td>\n",
       "      <td>0.832011</td>\n",
       "      <td>0.855861</td>\n",
       "      <td>...</td>\n",
       "      <td>0.008880</td>\n",
       "      <td>17172.90951</td>\n",
       "      <td>23.847260</td>\n",
       "      <td>2760.412930</td>\n",
       "      <td>0.972030</td>\n",
       "      <td>0.010690</td>\n",
       "      <td>0.946580</td>\n",
       "      <td>1329.952900</td>\n",
       "      <td>0.038480</td>\n",
       "      <td>7.295210</td>\n",
       "    </tr>\n",
       "    <tr>\n",
       "      <th>4</th>\n",
       "      <td>0</td>\n",
       "      <td>12.63733</td>\n",
       "      <td>89.579042</td>\n",
       "      <td>3.583846</td>\n",
       "      <td>7.922501</td>\n",
       "      <td>4.454175</td>\n",
       "      <td>0.572094</td>\n",
       "      <td>0.757225</td>\n",
       "      <td>1.574845</td>\n",
       "      <td>3.250288</td>\n",
       "      <td>...</td>\n",
       "      <td>0.004050</td>\n",
       "      <td>13231.94294</td>\n",
       "      <td>8.144370</td>\n",
       "      <td>784.597290</td>\n",
       "      <td>0.964690</td>\n",
       "      <td>0.025260</td>\n",
       "      <td>0.937690</td>\n",
       "      <td>1116.386690</td>\n",
       "      <td>0.052230</td>\n",
       "      <td>7.051490</td>\n",
       "    </tr>\n",
       "    <tr>\n",
       "      <th>...</th>\n",
       "      <td>...</td>\n",
       "      <td>...</td>\n",
       "      <td>...</td>\n",
       "      <td>...</td>\n",
       "      <td>...</td>\n",
       "      <td>...</td>\n",
       "      <td>...</td>\n",
       "      <td>...</td>\n",
       "      <td>...</td>\n",
       "      <td>...</td>\n",
       "      <td>...</td>\n",
       "      <td>...</td>\n",
       "      <td>...</td>\n",
       "      <td>...</td>\n",
       "      <td>...</td>\n",
       "      <td>...</td>\n",
       "      <td>...</td>\n",
       "      <td>...</td>\n",
       "      <td>...</td>\n",
       "      <td>...</td>\n",
       "      <td>...</td>\n",
       "    </tr>\n",
       "    <tr>\n",
       "      <th>192</th>\n",
       "      <td>0</td>\n",
       "      <td>11.95184</td>\n",
       "      <td>32.691265</td>\n",
       "      <td>12.213982</td>\n",
       "      <td>33.473818</td>\n",
       "      <td>16.208968</td>\n",
       "      <td>5.519894</td>\n",
       "      <td>3.300192</td>\n",
       "      <td>2.555792</td>\n",
       "      <td>3.463256</td>\n",
       "      <td>...</td>\n",
       "      <td>-0.030152</td>\n",
       "      <td>38716.62434</td>\n",
       "      <td>29.548066</td>\n",
       "      <td>2709.805588</td>\n",
       "      <td>1.912158</td>\n",
       "      <td>-0.011360</td>\n",
       "      <td>1.864258</td>\n",
       "      <td>1972.882222</td>\n",
       "      <td>0.034874</td>\n",
       "      <td>13.936042</td>\n",
       "    </tr>\n",
       "    <tr>\n",
       "      <th>193</th>\n",
       "      <td>0</td>\n",
       "      <td>9.88702</td>\n",
       "      <td>60.481188</td>\n",
       "      <td>8.860044</td>\n",
       "      <td>21.524942</td>\n",
       "      <td>12.410224</td>\n",
       "      <td>4.226854</td>\n",
       "      <td>2.888088</td>\n",
       "      <td>1.822704</td>\n",
       "      <td>-0.009474</td>\n",
       "      <td>...</td>\n",
       "      <td>0.028016</td>\n",
       "      <td>32577.07934</td>\n",
       "      <td>33.427936</td>\n",
       "      <td>4222.228292</td>\n",
       "      <td>1.842530</td>\n",
       "      <td>-0.014724</td>\n",
       "      <td>1.847794</td>\n",
       "      <td>3482.537034</td>\n",
       "      <td>0.055972</td>\n",
       "      <td>14.884836</td>\n",
       "    </tr>\n",
       "    <tr>\n",
       "      <th>194</th>\n",
       "      <td>0</td>\n",
       "      <td>12.84907</td>\n",
       "      <td>82.701566</td>\n",
       "      <td>11.543354</td>\n",
       "      <td>39.525156</td>\n",
       "      <td>18.867790</td>\n",
       "      <td>11.240758</td>\n",
       "      <td>4.716164</td>\n",
       "      <td>1.218402</td>\n",
       "      <td>-0.030052</td>\n",
       "      <td>...</td>\n",
       "      <td>-0.031432</td>\n",
       "      <td>24264.56392</td>\n",
       "      <td>163.442656</td>\n",
       "      <td>13608.298890</td>\n",
       "      <td>1.854554</td>\n",
       "      <td>-0.010420</td>\n",
       "      <td>1.769414</td>\n",
       "      <td>2216.464110</td>\n",
       "      <td>0.118514</td>\n",
       "      <td>14.217008</td>\n",
       "    </tr>\n",
       "    <tr>\n",
       "      <th>195</th>\n",
       "      <td>0</td>\n",
       "      <td>12.44606</td>\n",
       "      <td>72.223728</td>\n",
       "      <td>14.413852</td>\n",
       "      <td>49.234694</td>\n",
       "      <td>24.682116</td>\n",
       "      <td>25.364880</td>\n",
       "      <td>7.097038</td>\n",
       "      <td>1.554986</td>\n",
       "      <td>0.320610</td>\n",
       "      <td>...</td>\n",
       "      <td>-0.028798</td>\n",
       "      <td>23482.25672</td>\n",
       "      <td>77.169252</td>\n",
       "      <td>7889.657780</td>\n",
       "      <td>1.910132</td>\n",
       "      <td>-0.011150</td>\n",
       "      <td>1.856080</td>\n",
       "      <td>1931.545086</td>\n",
       "      <td>0.037302</td>\n",
       "      <td>14.145064</td>\n",
       "    </tr>\n",
       "    <tr>\n",
       "      <th>196</th>\n",
       "      <td>0</td>\n",
       "      <td>12.13425</td>\n",
       "      <td>109.304666</td>\n",
       "      <td>11.545814</td>\n",
       "      <td>39.527616</td>\n",
       "      <td>18.870250</td>\n",
       "      <td>11.243218</td>\n",
       "      <td>4.718624</td>\n",
       "      <td>1.220862</td>\n",
       "      <td>-0.027592</td>\n",
       "      <td>...</td>\n",
       "      <td>-0.028972</td>\n",
       "      <td>24264.56638</td>\n",
       "      <td>163.445116</td>\n",
       "      <td>13608.301350</td>\n",
       "      <td>1.857014</td>\n",
       "      <td>-0.007960</td>\n",
       "      <td>1.771874</td>\n",
       "      <td>2216.466570</td>\n",
       "      <td>0.120974</td>\n",
       "      <td>14.219468</td>\n",
       "    </tr>\n",
       "  </tbody>\n",
       "</table>\n",
       "<p>197 rows × 429 columns</p>\n",
       "</div>"
      ],
      "text/plain": [
       "     Failure.binary  Entropy_cooc.W.ADC  GLNU_align.H.PET  Min_hist.PET  \\\n",
       "0                 0            12.85352         46.256345      6.249117   \n",
       "1                 1            12.21115         27.454540     11.005214   \n",
       "2                 0            12.75682         90.195696      2.777718   \n",
       "3                 1            13.46730        325.643330      6.296588   \n",
       "4                 0            12.63733         89.579042      3.583846   \n",
       "..              ...                 ...               ...           ...   \n",
       "192               0            11.95184         32.691265     12.213982   \n",
       "193               0             9.88702         60.481188      8.860044   \n",
       "194               0            12.84907         82.701566     11.543354   \n",
       "195               0            12.44606         72.223728     14.413852   \n",
       "196               0            12.13425        109.304666     11.545814   \n",
       "\n",
       "     Max_hist.PET  Mean_hist.PET  Variance_hist.PET  \\\n",
       "0       17.825541       9.783773           6.814365   \n",
       "1       26.469077      15.426640          12.932074   \n",
       "2        6.877486       4.295330           0.923425   \n",
       "3       22.029843      10.334779           6.649795   \n",
       "4        7.922501       4.454175           0.572094   \n",
       "..            ...            ...                ...   \n",
       "192     33.473818      16.208968           5.519894   \n",
       "193     21.524942      12.410224           4.226854   \n",
       "194     39.525156      18.867790          11.240758   \n",
       "195     49.234694      24.682116          25.364880   \n",
       "196     39.527616      18.870250          11.243218   \n",
       "\n",
       "     Standard_Deviation_hist.PET  Skewness_hist.PET  Kurtosis_hist.PET  ...  \\\n",
       "0                       2.612479           0.688533          -0.339727  ...   \n",
       "1                       3.598298           0.789526          -0.319613  ...   \n",
       "2                       0.962163           0.248637          -0.944246  ...   \n",
       "3                       2.580759           0.832011           0.855861  ...   \n",
       "4                       0.757225           1.574845           3.250288  ...   \n",
       "..                           ...                ...                ...  ...   \n",
       "192                     3.300192           2.555792           3.463256  ...   \n",
       "193                     2.888088           1.822704          -0.009474  ...   \n",
       "194                     4.716164           1.218402          -0.030052  ...   \n",
       "195                     7.097038           1.554986           0.320610  ...   \n",
       "196                     4.718624           1.220862          -0.027592  ...   \n",
       "\n",
       "     LZLGE.W.ADC  LZHGE.W.ADC  GLNU_area.W.ADC    ZSNU.W.ADC  ZSP.W.ADC  \\\n",
       "0       0.006900   6201.93480         4.134000    239.289380   0.979180   \n",
       "1       0.004230  16054.01263         8.376270    644.737020   0.956370   \n",
       "2       0.004530   6674.63840        13.116860   1165.702610   0.972680   \n",
       "3       0.008880  17172.90951        23.847260   2760.412930   0.972030   \n",
       "4       0.004050  13231.94294         8.144370    784.597290   0.964690   \n",
       "..           ...          ...              ...           ...        ...   \n",
       "192    -0.030152  38716.62434        29.548066   2709.805588   1.912158   \n",
       "193     0.028016  32577.07934        33.427936   4222.228292   1.842530   \n",
       "194    -0.031432  24264.56392       163.442656  13608.298890   1.854554   \n",
       "195    -0.028798  23482.25672        77.169252   7889.657780   1.910132   \n",
       "196    -0.028972  24264.56638       163.445116  13608.301350   1.857014   \n",
       "\n",
       "     GLNU_norm.W.ADC  ZSNU_norm.W.ADC  GLVAR_area.W.ADC  ZSVAR.W.ADC  \\\n",
       "0           0.018990         0.955860       1145.104960     0.025860   \n",
       "1           0.014610         0.932880        847.525370     0.041530   \n",
       "2           0.025010         0.915370       1923.857050     0.071040   \n",
       "3           0.010690         0.946580       1329.952900     0.038480   \n",
       "4           0.025260         0.937690       1116.386690     0.052230   \n",
       "..               ...              ...               ...          ...   \n",
       "192        -0.011360         1.864258       1972.882222     0.034874   \n",
       "193        -0.014724         1.847794       3482.537034     0.055972   \n",
       "194        -0.010420         1.769414       2216.464110     0.118514   \n",
       "195        -0.011150         1.856080       1931.545086     0.037302   \n",
       "196        -0.007960         1.771874       2216.466570     0.120974   \n",
       "\n",
       "     Entropy_area.W.ADC  \n",
       "0              6.286320  \n",
       "1              6.778530  \n",
       "2              7.156850  \n",
       "3              7.295210  \n",
       "4              7.051490  \n",
       "..                  ...  \n",
       "192           13.936042  \n",
       "193           14.884836  \n",
       "194           14.217008  \n",
       "195           14.145064  \n",
       "196           14.219468  \n",
       "\n",
       "[197 rows x 429 columns]"
      ]
     },
     "metadata": {},
     "output_type": "display_data"
    },
    {
     "data": {
      "text/plain": [
       "Index(['Failure.binary', 'Entropy_cooc.W.ADC', 'GLNU_align.H.PET',\n",
       "       'Min_hist.PET', 'Max_hist.PET', 'Mean_hist.PET', 'Variance_hist.PET',\n",
       "       'Standard_Deviation_hist.PET', 'Skewness_hist.PET', 'Kurtosis_hist.PET',\n",
       "       ...\n",
       "       'LZLGE.W.ADC', 'LZHGE.W.ADC', 'GLNU_area.W.ADC', 'ZSNU.W.ADC',\n",
       "       'ZSP.W.ADC', 'GLNU_norm.W.ADC', 'ZSNU_norm.W.ADC', 'GLVAR_area.W.ADC',\n",
       "       'ZSVAR.W.ADC', 'Entropy_area.W.ADC'],\n",
       "      dtype='object', length=429)"
      ]
     },
     "execution_count": 155,
     "metadata": {},
     "output_type": "execute_result"
    }
   ],
   "source": [
    "display(dataset)\n",
    "dataset.columns"
   ]
  },
  {
   "cell_type": "markdown",
   "metadata": {},
   "source": [
    "#### Distribution of features and labels\n",
    "There are only two target variables: \"success\" and \"failure\" of which are binary.  Let us see if the data is balanced."
   ]
  },
  {
   "cell_type": "code",
   "execution_count": 45,
   "metadata": {},
   "outputs": [
    {
     "data": {
      "image/png": "[encoded data removed]",
      "text/plain": [
       "<Figure size 640x480 with 1 Axes>"
      ]
     },
     "metadata": {},
     "output_type": "display_data"
    }
   ],
   "source": [
    "def plot_label_distribution(column):\n",
    "    count_classes = pd.value_counts(column, sort = True)\n",
    "    count_classes.plot(kind = 'bar', rot=0)\n",
    "\n",
    "    plt.title(\"Distribution of Labels\")\n",
    "    plt.xticks(range(2), [\"Success\",\"Failure\"])\n",
    "    plt.xlabel(\"Category\")\n",
    "    plt.ylabel(\"Count\")\n",
    "\n",
    "plot_label_distribution(dataset[\"Failure.binary\"])"
   ]
  },
  {
   "cell_type": "markdown",
   "metadata": {},
   "source": [
    "Based on the figure above, the distribution of labels are imbalanced.  Therefore, we need to resample to balance the binary values.\n",
    "\n",
    "*We Use RandomOverSampler to balance the distribution of labels.*"
   ]
  },
  {
   "cell_type": "code",
   "execution_count": 46,
   "metadata": {},
   "outputs": [
    {
     "data": {
      "image/png": "[encoded data removed]",
      "text/plain": [
       "<Figure size 640x480 with 1 Axes>"
      ]
     },
     "metadata": {},
     "output_type": "display_data"
    }
   ],
   "source": [
    "ros = RandomOverSampler(sampling_strategy='minority', random_state=42)\n",
    "\n",
    "# Fit and apply the random oversampling to your dataset\n",
    "X_resampled, y_resampled = ros.fit_resample(X, y)\n",
    "\n",
    "plot_label_distribution(y_resampled)"
   ]
  },
  {
   "cell_type": "markdown",
   "metadata": {},
   "source": [
    "#### Feature Normalization"
   ]
  },
  {
   "cell_type": "code",
   "execution_count": 144,
   "metadata": {},
   "outputs": [
    {
     "data": {
      "text/plain": [
       "[Text(0, 0, ''),\n",
       " Text(1, 0, ''),\n",
       " Text(2, 0, ''),\n",
       " Text(3, 0, ''),\n",
       " Text(4, 0, ''),\n",
       " Text(5, 0, '')]"
      ]
     },
     "execution_count": 144,
     "metadata": {},
     "output_type": "execute_result"
    },
    {
     "data": {
      "image/png": "[encoded data removed]",
      "text/plain": [
       "<Figure size 1400x600 with 2 Axes>"
      ]
     },
     "metadata": {},
     "output_type": "display_data"
    }
   ],
   "source": [
    "X_std = StandardScaler().fit_transform(X_resampled)\n",
    "\n",
    "fig, ax = plt.subplots(1,2,figsize=(14,6))\n",
    "\n",
    "n_rows = 6\n",
    "ax[0].set_title(\"Before Standardization\")\n",
    "ax[0].set_xlabel(\"Features\")\n",
    "# ax[0].set_xticks(None)\n",
    "sns.boxplot(X_resampled.iloc[:,:n_rows], ax=ax[0]).set_xticklabels([])\n",
    "ax[1].set_title(\"After Standardization\")\n",
    "ax[1].set_xlabel(\"Features\")\n",
    "sns.boxplot(X_std[:,:n_rows], ax=ax[1]).set_xticklabels([])"
   ]
  },
  {
   "cell_type": "markdown",
   "metadata": {},
   "source": [
    "Standardization ensures that all features contribute equally to the learning process.  We eliminate features with larger scales may dominate the learning process such as the second feature above."
   ]
  },
  {
   "cell_type": "markdown",
   "metadata": {},
   "source": [
    "#### Principal Component Analysis"
   ]
  },
  {
   "cell_type": "code",
   "execution_count": 108,
   "metadata": {},
   "outputs": [
    {
     "name": "stdout",
     "output_type": "stream",
     "text": [
      "Index(['Entropy_cooc.W.ADC', 'GLNU_align.H.PET', 'Min_hist.PET',\n",
      "       'Max_hist.PET', 'Mean_hist.PET', 'Variance_hist.PET',\n",
      "       'Standard_Deviation_hist.PET', 'Skewness_hist.PET', 'Kurtosis_hist.PET',\n",
      "       'Energy_hist.PET',\n",
      "       ...\n",
      "       'LZLGE.W.ADC', 'LZHGE.W.ADC', 'GLNU_area.W.ADC', 'ZSNU.W.ADC',\n",
      "       'ZSP.W.ADC', 'GLNU_norm.W.ADC', 'ZSNU_norm.W.ADC', 'GLVAR_area.W.ADC',\n",
      "       'ZSVAR.W.ADC', 'Entropy_area.W.ADC'],\n",
      "      dtype='object', length=428)\n",
      "Number of features:  428\n"
     ]
    }
   ],
   "source": [
    "print(X.columns)\n",
    "print(\"Number of features: \", len(X.columns))"
   ]
  },
  {
   "cell_type": "markdown",
   "metadata": {},
   "source": [
    "There are **428 features** in the dataset!  We shall use Principal Component Analysis to reduce the number of features to smaller components."
   ]
  },
  {
   "cell_type": "code",
   "execution_count": 48,
   "metadata": {},
   "outputs": [
    {
     "data": {
      "text/plain": [
       "Text(0, 0.5, 'Cumulative explained variance')"
      ]
     },
     "execution_count": 48,
     "metadata": {},
     "output_type": "execute_result"
    },
    {
     "data": {
      "image/png": "[encoded data removed]",
      "text/plain": [
       "<Figure size 640x480 with 1 Axes>"
      ]
     },
     "metadata": {},
     "output_type": "display_data"
    }
   ],
   "source": [
    "pca = PCA().fit(X_std)\n",
    "plt.plot(np.cumsum(pca.explained_variance_ratio_))\n",
    "plt.xlim(0,25,1)\n",
    "plt.xlabel('Number of components')\n",
    "plt.ylabel('Cumulative explained variance')"
   ]
  },
  {
   "cell_type": "markdown",
   "metadata": {},
   "source": [
    "We can achieve explained cumulative explained variance ratio of 0.95 with 15 components."
   ]
  },
  {
   "cell_type": "code",
   "execution_count": 156,
   "metadata": {},
   "outputs": [
    {
     "data": {
      "text/plain": [
       "Text(0, 0.5, 'Cumulative explained variance')"
      ]
     },
     "execution_count": 156,
     "metadata": {},
     "output_type": "execute_result"
    },
    {
     "data": {
      "image/png": "[encoded data removed]",
      "text/plain": [
       "<Figure size 640x480 with 1 Axes>"
      ]
     },
     "metadata": {},
     "output_type": "display_data"
    }
   ],
   "source": [
    "pca = PCA(n_components=15).fit(X_std)\n",
    "plt.plot(np.cumsum(pca.explained_variance_ratio_))\n",
    "\n",
    "X_pca = pca.transform(X_std)\n",
    "Y_pca = y_resampled\n",
    "plt.xlabel('Number of components')\n",
    "plt.ylabel('Cumulative explained variance')\n"
   ]
  },
  {
   "cell_type": "markdown",
   "metadata": {},
   "source": [
    "#### Train test split"
   ]
  },
  {
   "cell_type": "code",
   "execution_count": 157,
   "metadata": {},
   "outputs": [],
   "source": [
    "x_train, x_test, y_train, y_test = train_test_split(X_pca, Y_pca, test_size=0.2, random_state=42)"
   ]
  },
  {
   "cell_type": "code",
   "execution_count": 159,
   "metadata": {},
   "outputs": [],
   "source": [
    "models = [\n",
    "    {\n",
    "    \"name\": \"Logistic Regression\",\n",
    "    \"model\": LogisticRegression(),\n",
    "    \"param_grid\": {\n",
    "            'C': [0.001, 0.01, 0.1, 1, 10],\n",
    "            'solver': ['liblinear', 'lbfgs', 'newton-cg', 'sag', 'saga'],\n",
    "            \"max_iter\": [100, 200, 300, 400, 500, 1000]\n",
    "        }\n",
    "    },{\n",
    "    \"name\": \"Random Forest\",\n",
    "    \"model\": RandomForestClassifier(),\n",
    "    \"param_grid\": {\n",
    "            'n_estimators': [50, 75, 100],\n",
    "            'max_depth': [None, 5, 10, 15],\n",
    "            'min_samples_split': [1, 2, 3],\n",
    "            'min_samples_leaf': [1,2,3],\n",
    "        }\n",
    "    },{\n",
    "    \"name\": \"KNN\",\n",
    "    \"model\": KNeighborsClassifier(),\n",
    "    \"param_grid\": {\n",
    "            'n_neighbors': [3, 5, 7, 9],    \n",
    "            'weights': ['uniform', 'distance'],  \n",
    "            'p': [1, 2, 3, 4, 5]                      \n",
    "        }\n",
    "    },{\n",
    "    \"name\": \"SVC\",\n",
    "    \"model\": SVC(),\n",
    "    \"param_grid\": {\n",
    "            'C': [0.1, 1, 3],\n",
    "            'kernel': ['linear', 'poly', 'rbf', 'sigmoid'],\n",
    "            'degree': [2, 3, 4],\n",
    "            'gamma': ['scale', 'auto'] + [0.001, 0.01, 0.1, 1],\n",
    "            'coef0': [0, 1, 2],\n",
    "        }\n",
    "    },{\n",
    "    \"name\": \"Gradient Boosting\",\n",
    "    \"model\": GradientBoostingClassifier(),\n",
    "    \"param_grid\": {\n",
    "            'n_estimators': [50, 100, 125],\n",
    "            'learning_rate': [0.01, 0.1, 0.2],\n",
    "            'max_depth': [3, 4, 5],\n",
    "            'max_features': ['auto', 'sqrt', 'log2'],\n",
    "    }\n",
    "    }\n",
    "]"
   ]
  },
  {
   "cell_type": "code",
   "execution_count": 166,
   "metadata": {},
   "outputs": [],
   "source": [
    "model_results = pd.DataFrame(columns=[\"Best Score\", \"Accuracy\", \"F1 Score\", \"ROC AUC Score\"])"
   ]
  },
  {
   "cell_type": "code",
   "execution_count": 170,
   "metadata": {},
   "outputs": [
    {
     "name": "stdout",
     "output_type": "stream",
     "text": [
      "Best parameters for Logistic Regression: {'C': 0.01, 'max_iter': 100, 'solver': 'lbfgs'}\n",
      "Best score for Logistic Regression: 0.7830952380952381\n",
      "Accuracy for Logistic Regression: 0.6923076923076923\n",
      "ROC-AUC: 0.6962962962962963\n",
      "Accuracy: 0.6923076923076923\n",
      "F1 Score: 0.6666666666666666\n",
      "\n",
      "Best parameters for Random Forest: {'max_depth': 10, 'min_samples_leaf': 1, 'min_samples_split': 3, 'n_estimators': 75}\n",
      "Best score for Random Forest: 0.865\n",
      "Accuracy for Random Forest: 0.7884615384615384\n",
      "ROC-AUC: 0.7874074074074074\n",
      "Accuracy: 0.7884615384615384\n",
      "F1 Score: 0.7999999999999999\n",
      "\n",
      "Best parameters for KNN: {'n_neighbors': 7, 'p': 5, 'weights': 'distance'}\n",
      "Best score for KNN: 0.8323809523809522\n",
      "Accuracy for KNN: 0.8076923076923077\n",
      "ROC-AUC: 0.8059259259259259\n",
      "Accuracy: 0.8076923076923077\n",
      "F1 Score: 0.8214285714285715\n",
      "\n",
      "Best parameters for SVC: {'C': 3, 'coef0': 0, 'degree': 2, 'gamma': 'auto', 'kernel': 'rbf'}\n",
      "Best score for SVC: 0.8359523809523809\n",
      "Accuracy for SVC: 0.8269230769230769\n",
      "ROC-AUC: 0.8318518518518518\n",
      "Accuracy: 0.8269230769230769\n",
      "F1 Score: 0.8085106382978724\n",
      "\n",
      "Best parameters for Gradient Boosting: {'learning_rate': 0.1, 'max_depth': 3, 'max_features': 'log2', 'n_estimators': 100}\n",
      "Best score for Gradient Boosting: 0.8602380952380952\n",
      "Accuracy for Gradient Boosting: 0.7884615384615384\n",
      "ROC-AUC: 0.7859259259259259\n",
      "Accuracy: 0.7884615384615384\n",
      "F1 Score: 0.8070175438596491\n",
      "\n"
     ]
    }
   ],
   "source": [
    "for model in models:\n",
    "    kfold = KFold(n_splits=10, shuffle=True, random_state=43)\n",
    "    grid_search = GridSearchCV(model[\"model\"], model[\"param_grid\"], cv=kfold, scoring='accuracy', n_jobs=-1)\n",
    "    grid_search.fit(x_train, y_train)\n",
    "\n",
    "    print(f\"Best parameters for {model['name']}: {grid_search.best_params_}\")\n",
    "    print(f\"Best score for {model['name']}: {grid_search.best_score_}\")\n",
    "    best_model = grid_search.best_estimator_\n",
    "    print(f\"Accuracy for {model['name']}: {best_model.score(x_test, y_test)}\")\n",
    "\n",
    "    y_pred = best_model.predict(x_test)\n",
    "    roc_auc = roc_auc_score(y_test, y_pred)\n",
    "    accuracy = accuracy_score(y_test, y_pred)\n",
    "    f1 = f1_score(y_test, y_pred)\n",
    "\n",
    "    print(\"ROC-AUC:\", roc_auc)\n",
    "    print(\"Accuracy:\", accuracy)\n",
    "    print(\"F1 Score:\", f1)\n",
    "\n",
    "    model_results.loc[model[\"name\"]] = [grid_search.best_score_, accuracy, f1, roc_auc]\n",
    "    \n",
    "    print()\n"
   ]
  },
  {
   "cell_type": "markdown",
   "metadata": {},
   "source": [
    "#### Analysis and Conclusion"
   ]
  },
  {
   "cell_type": "code",
   "execution_count": 168,
   "metadata": {},
   "outputs": [
    {
     "data": {
      "text/html": [
       "<div>\n",
       "<style scoped>\n",
       "    .dataframe tbody tr th:only-of-type {\n",
       "        vertical-align: middle;\n",
       "    }\n",
       "\n",
       "    .dataframe tbody tr th {\n",
       "        vertical-align: top;\n",
       "    }\n",
       "\n",
       "    .dataframe thead th {\n",
       "        text-align: right;\n",
       "    }\n",
       "</style>\n",
       "<table border=\"1\" class=\"dataframe\">\n",
       "  <thead>\n",
       "    <tr style=\"text-align: right;\">\n",
       "      <th></th>\n",
       "      <th>Best Score</th>\n",
       "      <th>Accuracy</th>\n",
       "      <th>F1 Score</th>\n",
       "      <th>ROC AUC Score</th>\n",
       "    </tr>\n",
       "  </thead>\n",
       "  <tbody>\n",
       "    <tr>\n",
       "      <th>Logistic Regression</th>\n",
       "      <td>0.783095</td>\n",
       "      <td>0.692308</td>\n",
       "      <td>0.666667</td>\n",
       "      <td>0.696296</td>\n",
       "    </tr>\n",
       "    <tr>\n",
       "      <th>Random Forest</th>\n",
       "      <td>0.870000</td>\n",
       "      <td>0.769231</td>\n",
       "      <td>0.777778</td>\n",
       "      <td>0.768889</td>\n",
       "    </tr>\n",
       "    <tr>\n",
       "      <th>KNN</th>\n",
       "      <td>0.832381</td>\n",
       "      <td>0.807692</td>\n",
       "      <td>0.821429</td>\n",
       "      <td>0.805926</td>\n",
       "    </tr>\n",
       "    <tr>\n",
       "      <th>SVC</th>\n",
       "      <td>0.835952</td>\n",
       "      <td>0.826923</td>\n",
       "      <td>0.808511</td>\n",
       "      <td>0.831852</td>\n",
       "    </tr>\n",
       "    <tr>\n",
       "      <th>Gradient Boosting</th>\n",
       "      <td>0.855238</td>\n",
       "      <td>0.788462</td>\n",
       "      <td>0.800000</td>\n",
       "      <td>0.787407</td>\n",
       "    </tr>\n",
       "  </tbody>\n",
       "</table>\n",
       "</div>"
      ],
      "text/plain": [
       "                     Best Score  Accuracy  F1 Score  ROC AUC Score\n",
       "Logistic Regression    0.783095  0.692308  0.666667       0.696296\n",
       "Random Forest          0.870000  0.769231  0.777778       0.768889\n",
       "KNN                    0.832381  0.807692  0.821429       0.805926\n",
       "SVC                    0.835952  0.826923  0.808511       0.831852\n",
       "Gradient Boosting      0.855238  0.788462  0.800000       0.787407"
      ]
     },
     "metadata": {},
     "output_type": "display_data"
    }
   ],
   "source": [
    "display(model_results)"
   ]
  },
  {
   "cell_type": "markdown",
   "metadata": {},
   "source": [
    "Among the models listed, the **Random Forest model** achieved the highest \"Best Score\" of 0.87, suggesting it performed the best overall according to the chosen evaluation metric, but suffers from precision and recall scores.\n",
    "\n",
    "KNN and SVC also achieved relatively high scores, both in terms of accuracy, F1 score, and ROC AUC score.\n",
    "\n",
    "However, logistic regression performed poorly, suggesting that the data is not linear in nature."
   ]
  }
 ],
 "metadata": {
  "kernelspec": {
   "display_name": "Python 3",
   "language": "python",
   "name": "python3"
  },
  "language_info": {
   "codemirror_mode": {
    "name": "ipython",
    "version": 3
   },
   "file_extension": ".py",
   "mimetype": "text/x-python",
   "name": "python",
   "nbconvert_exporter": "python",
   "pygments_lexer": "ipython3",
   "version": "3.10.6"
  },
  "orig_nbformat": 4
 },
 "nbformat": 4,
 "nbformat_minor": 2
}
